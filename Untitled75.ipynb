{
 "cells": [
  {
   "cell_type": "markdown",
   "id": "65158cb4-1d2c-4a88-8ff8-06fe5140d2ba",
   "metadata": {},
   "source": [
    "Q1: Hierarchical clustering builds a tree-like structure (dendrogram) to group data points. \n",
    "Unlike other techniques, it doesn't require specifying the number of clusters in advance and can capture nested clusters.\n",
    "\n",
    "Q2: The two main types of hierarchical clustering are:\n",
    "Agglomerative (bottom-up): Starts with individual points as clusters and merges them iteratively.\n",
    "Divisive (top-down): Starts with one cluster and recursively splits it.\n",
    "\n",
    "Q3: The distance between clusters in hierarchical clustering is determined using linkage criteria. Common metrics include single linkage (minimum distance), complete linkage (maximum distance), and average linkage (mean distance).\n",
    "\n",
    "Q4: To determine the optimal number of clusters in hierarchical clustering, use methods like the dendrogram cut, the silhouette score, or the elbow method to analyze the height of the dendrogram.\n",
    "\n",
    "Q5: Dendrograms are tree diagrams that display the arrangement of clusters formed by hierarchical clustering. They are useful for visualizing the merging process and determining the optimal number of clusters.\n",
    "\n",
    "Q6: Hierarchical clustering can be used for both numerical and categorical data. For numerical data, use metrics like Euclidean distance. For categorical data, use metrics like the Hamming distance or Gower's distance.\n",
    "\n",
    "Q7: Hierarchical clustering can identify outliers by observing data points that form singleton clusters or merge at higher levels in the dendrogram, indicating they are distinct from other clusters."
   ]
  }
 ],
 "metadata": {
  "kernelspec": {
   "display_name": "Python 3 (ipykernel)",
   "language": "python",
   "name": "python3"
  },
  "language_info": {
   "codemirror_mode": {
    "name": "ipython",
    "version": 3
   },
   "file_extension": ".py",
   "mimetype": "text/x-python",
   "name": "python",
   "nbconvert_exporter": "python",
   "pygments_lexer": "ipython3",
   "version": "3.10.8"
  }
 },
 "nbformat": 4,
 "nbformat_minor": 5
}
